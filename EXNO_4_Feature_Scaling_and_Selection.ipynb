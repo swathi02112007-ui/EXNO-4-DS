{
  "cells": [
    {
      "cell_type": "markdown",
      "metadata": {
        "id": "E492H_umby76"
      },
      "source": [
        "**Feature Scaling**"
      ]
    },
    {
      "cell_type": "code",
      "execution_count": null,
      "metadata": {
        "id": "DpfTJUqqb9BF"
      },
      "outputs": [],
      "source": [
        "import pandas as pd\n",
        "from scipy import stats\n",
        "import numpy as np"
      ]
    },
    {
      "cell_type": "code",
      "execution_count": null,
      "metadata": {
        "id": "EZ0rqS7dcF6Z"
      },
      "outputs": [],
      "source": [
        "df=pd.read_csv(\"/content/bmi.csv\")"
      ]
    },
    {
      "cell_type": "code",
      "execution_count": null,
      "metadata": {
        "id": "DMUsSRQ5cIVI"
      },
      "outputs": [],
      "source": [
        "df.head()"
      ]
    },
    {
      "cell_type": "code",
      "execution_count": null,
      "metadata": {
        "id": "cuK6Nx_RcMER"
      },
      "outputs": [],
      "source": [
        "df.dropna()"
      ]
    },
    {
      "cell_type": "code",
      "execution_count": null,
      "metadata": {
        "id": "hDeyqPqDcOcq"
      },
      "outputs": [],
      "source": [
        "# TYPE CODE TO FIND MAXIMUM VALUE FROM HEIGHT AND WEIGHT FEATURE\n",
        " Find maximum values # pyright: ignore[reportUndefinedVariable]\n",
        "print(\"\\nMaximum Height:\", df['Height'].max())\n",
        "print(\"Maximum Weight:\", df['Weight'].max())\n"
      ]
    },
    {
      "cell_type": "code",
      "execution_count": null,
      "metadata": {
        "id": "X8IKMVz6cdWK"
      },
      "outputs": [],
      "source": [
        "from sklearn.preprocessing import MinMaxScaler"
      ]
    },
    {
      "cell_type": "code",
      "execution_count": null,
      "metadata": {
        "id": "0i95gLB5cf14"
      },
      "outputs": [],
      "source": [
        "#Perform minmax scaler\n",
        "minmax = MinMaxScaler()\n",
        "df_minmax = df.copy()\n",
        "df_minmax[['Height', 'Weight']] = minmax.fit_transform(df[['Height', 'Weight']])\n",
        "print(\"\\nAfter Min-Max Scaling:\")\n",
        "print(df_minmax.head())"
      ]
    },
    {
      "cell_type": "code",
      "execution_count": null,
      "metadata": {
        "id": "Vxrn0CaIcwF6"
      },
      "outputs": [],
      "source": [
        "from sklearn.preprocessing import StandardScaler"
      ]
    },
    {
      "cell_type": "code",
      "execution_count": null,
      "metadata": {
        "id": "ohx3wsNFcnKQ"
      },
      "outputs": [],
      "source": [
        "#Perform standard scaler\n",
        "std = StandardScaler()\n",
        "df_std = df.copy()\n",
        "df_std[['Height', 'Weight']] = std.fit_transform(df[['Height', 'Weight']])\n",
        "print(\"\\nAfter Standard Scaling:\")\n",
        "print(df_std.head())"
      ]
    },
    {
      "cell_type": "code",
      "execution_count": null,
      "metadata": {
        "id": "ySNsrglUcy3W"
      },
      "outputs": [],
      "source": [
        "from sklearn.preprocessing import Normalizer"
      ]
    },
    {
      "cell_type": "code",
      "execution_count": null,
      "metadata": {
        "id": "j4MOnhh8c1hB"
      },
      "outputs": [],
      "source": [
        "#Perform Normalizer\n",
        "norm = Normalizer()\n",
        "df_norm = df.copy()\n",
        "df_norm[['Height', 'Weight']] = norm.fit_transform(df[['Height', 'Weight']])\n",
        "print(\"\\nAfter Normalization:\")\n",
        "print(df_norm.head())"
      ]
    },
    {
      "cell_type": "code",
      "execution_count": null,
      "metadata": {
        "id": "aH3FFXa8c6GP"
      },
      "outputs": [],
      "source": [
        "from sklearn.preprocessing import MaxAbsScaler"
      ]
    },
    {
      "cell_type": "code",
      "execution_count": null,
      "metadata": {
        "id": "p1K6ddFZc-Lp"
      },
      "outputs": [],
      "source": [
        "#Perform MaxAbsScaler\n",
        "maxabs = MaxAbsScaler()\n",
        "df_maxabs = df.copy()\n",
        "df_maxabs[['Height', 'Weight']] = maxabs.fit_transform(df[['Height', 'Weight']])\n",
        "print(\"\\nAfter MaxAbs Scaling:\")\n",
        "print(df_maxabs.head())"
      ]
    },
    {
      "cell_type": "code",
      "execution_count": null,
      "metadata": {
        "id": "F6czrM4KdDnA"
      },
      "outputs": [],
      "source": [
        "from sklearn.preprocessing import RobustScaler"
      ]
    },
    {
      "cell_type": "code",
      "execution_count": null,
      "metadata": {
        "id": "5KVxy2YZdGDi"
      },
      "outputs": [],
      "source": [
        "#Perform RobustScaler\n",
        "rob = RobustScaler()\n",
        "df_rob = df.copy()\n",
        "df_rob[['Height', 'Weight']] = rob.fit_transform(df[['Height', 'Weight']])\n",
        "print(\"\\nAfter Robust Scaling:\")\n",
        "print(df_rob.head())"
      ]
    },
    {
      "cell_type": "code",
      "execution_count": null,
      "metadata": {
        "id": "lA2l9dvDehLH"
      },
      "outputs": [],
      "source": [
        "import pandas as pd\n",
        "import numpy as np\n",
        "import matplotlib\n",
        "import matplotlib.pyplot as plt\n",
        "import seaborn as sns\n",
        "import statsmodels.api as sm\n",
        "from sklearn.model_selection import train_test_split\n",
        "from sklearn.linear_model import LinearRegression\n",
        "from sklearn.feature_selection import RFE\n",
        "from sklearn.linear_model import RidgeCV, LassoCV, Ridge, Lasso\n",
        "from sklearn.feature_selection import SelectKBest\n",
        "from sklearn.feature_selection import mutual_info_classif\n",
        "from sklearn.feature_selection import mutual_info_regression\n",
        "from sklearn.feature_selection import chi2"
      ]
    },
    {
      "cell_type": "code",
      "execution_count": null,
      "metadata": {
        "id": "ZmzSebR7eiLa"
      },
      "outputs": [],
      "source": [
        "df=pd.read_csv('/content/titanic_dataset.csv')"
      ]
    },
    {
      "cell_type": "code",
      "execution_count": null,
      "metadata": {
        "id": "INgxLyc-ekwh"
      },
      "outputs": [],
      "source": [
        "df.columns"
      ]
    },
    {
      "cell_type": "code",
      "execution_count": null,
      "metadata": {
        "id": "g0WOb5vTenHy"
      },
      "outputs": [],
      "source": [
        "df.shape"
      ]
    },
    {
      "cell_type": "code",
      "execution_count": null,
      "metadata": {
        "id": "Vih9r9F9eo_M"
      },
      "outputs": [],
      "source": [
        "X = df.drop(\"Survived\", 1)       # feature matrix\n",
        "y = df['Survived']"
      ]
    },
    {
      "cell_type": "code",
      "execution_count": null,
      "metadata": {
        "id": "qKqjikD6etet"
      },
      "outputs": [],
      "source": [
        "#drop the following columns -\"Name\", \"Sex\", \"Ticket\", \"Cabin\", \"Embarked\" and store it in df1\n",
        "df1 = df1[['PassengerId', 'Fare', 'Pclass', 'Age', 'SibSp', 'Parch', 'Survived']] # pyright: ignore[reportUndefinedVariable]\n",
        "print(\"\\nReordered Columns:\")"
      ]
    },
    {
      "cell_type": "code",
      "execution_count": null,
      "metadata": {
        "id": "djBQnbVMexf2"
      },
      "outputs": [],
      "source": [
        "df1.columns # pyright: ignore[reportUndefinedVariable]"
      ]
    },
    {
      "cell_type": "code",
      "execution_count": null,
      "metadata": {
        "id": "RMcn-oaDeyDi"
      },
      "outputs": [],
      "source": [
        "df1['Age'].isnull().sum() # pyright: ignore[reportUndefinedVariable]"
      ]
    },
    {
      "cell_type": "code",
      "execution_count": null,
      "metadata": {
        "id": "uLBhXegvfAyC"
      },
      "outputs": [],
      "source": [
        "#fill null values of age column using forward fill method"
      ]
    },
    {
      "cell_type": "code",
      "execution_count": null,
      "metadata": {
        "id": "lMAh342RfI6l"
      },
      "outputs": [],
      "source": [
        "df1['Age'].isnull().sum() # pyright: ignore[reportUndefinedVariable]"
      ]
    },
    {
      "cell_type": "code",
      "execution_count": null,
      "metadata": {
        "id": "WnPHpU5AfMAA"
      },
      "outputs": [],
      "source": [
        "feature=SelectKBest(mutual_info_classif,k=3)"
      ]
    },
    {
      "cell_type": "code",
      "execution_count": null,
      "metadata": {
        "id": "sTnb8HjLfO-f"
      },
      "outputs": [],
      "source": [
        "df1.columns # pyright: ignore[reportUndefinedVariable]"
      ]
    },
    {
      "cell_type": "code",
      "execution_count": null,
      "metadata": {
        "id": "ElOaZbr1fRO1"
      },
      "outputs": [],
      "source": [
        "#Replace the columns from  ['PassengerId', 'Survived', 'Pclass', 'Age', 'SibSp', 'Parch', 'Fare'] to ['PassengerId', 'Fare', 'Pclass', 'Age', 'SibSp', 'Parch', 'Survived']\n",
        "print(\"\\n--- SelectKBest (Mutual Info Classification) ---\")\n",
        "selector = SelectKBest(score_func=mutual_info_classif, k=3)\n",
        "selector.fit(X, y)\n",
        "selected_features = X.columns[selector.get_support()]\n",
        "print(\"Selected Top 3 Features:\", list(selected_features))"
      ]
    },
    {
      "cell_type": "code",
      "execution_count": null,
      "metadata": {
        "id": "QSHHOujLfmIB"
      },
      "outputs": [],
      "source": [
        "X=df1.iloc[:,0:6]\n",
        "y=df1.iloc[:,6]"
      ]
    },
    {
      "cell_type": "code",
      "execution_count": null,
      "metadata": {
        "id": "i_Z5PDEjhFlu"
      },
      "outputs": [],
      "source": [
        "X.columns"
      ]
    },
    {
      "cell_type": "code",
      "execution_count": null,
      "metadata": {
        "id": "7KpjmdcYhIQ4"
      },
      "outputs": [],
      "source": [
        "y=y.to_frame()"
      ]
    },
    {
      "cell_type": "code",
      "execution_count": null,
      "metadata": {
        "id": "QGnAxwJvhKr2"
      },
      "outputs": [],
      "source": [
        "y.columns"
      ]
    },
    {
      "cell_type": "code",
      "execution_count": null,
      "metadata": {
        "id": "jpCioKpUhNRF"
      },
      "outputs": [],
      "source": [
        "X = df1.drop(\"Survived\", 1)       # feature matrix\n",
        "y = df1['Survived']"
      ]
    },
    {
      "cell_type": "code",
      "execution_count": null,
      "metadata": {
        "id": "0od0L9bMhRT7"
      },
      "outputs": [],
      "source": [
        "feature.fit(X,y)"
      ]
    },
    {
      "cell_type": "code",
      "execution_count": null,
      "metadata": {
        "id": "RRx1tn6-hTOb"
      },
      "outputs": [],
      "source": [
        "#perform feature selections techniques"
      ]
    }
  ],
  "metadata": {
    "colab": {
      "provenance": []
    },
    "kernelspec": {
      "display_name": "Python 3",
      "name": "python3"
    },
    "language_info": {
      "name": "python"
    }
  },
  "nbformat": 4,
  "nbformat_minor": 0
}
